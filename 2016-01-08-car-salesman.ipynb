{
 "cells": [
  {
   "cell_type": "markdown",
   "metadata": {},
   "source": [
    "# Car Salesman\n",
    "\n",
    "> You go to buy a specific car, whose fair price we’ll call N. You have absolutely no idea what N is and the dealer, sadistic capitalist that he is, won’t tell you. The dealer enjoys a good chase, though, so without directly revealing the value of N, he takes five index cards and writes down a number on each of them: N, N+100, N+200, N+300 and N+400. Important: the guy’s sadistic but not a math major. The numbers on the cards are numbers, not algebra equations.\n",
    "> \n",
    "> He presents the cards to you, one at a time, in random order. (For example, if the price on the second card is $100 more than the first, you can’t be sure if those are the two smallest prices, the two largest, or somewhere in between.) Each time he shows you a card, you must either pay the price on that card, or ask to see the next card. You cannot go back to previous cards. If you make it to the fifth and final card, then that is what you must pay. If you play the dealer’s game optimally, *how much should you expect to pay* on average above the fair price N?"
   ]
  },
  {
   "cell_type": "markdown",
   "metadata": {},
   "source": [
    "I fucking love this. Optimal stopping is great. Let's start."
   ]
  },
  {
   "cell_type": "code",
   "execution_count": 60,
   "metadata": {},
   "outputs": [],
   "source": [
    "import numpy as np\n",
    "\n",
    "card_markups = range(0,500,100)"
   ]
  },
  {
   "cell_type": "markdown",
   "metadata": {},
   "source": [
    "Let's say I'm really bad at discovering the optimal strategy, and so I take whatever the first offer is. On average, how much extra am I paying?"
   ]
  },
  {
   "cell_type": "code",
   "execution_count": 61,
   "metadata": {},
   "outputs": [
    {
     "name": "stdout",
     "output_type": "stream",
     "text": [
      "200.0\n"
     ]
    }
   ],
   "source": [
    "print(np.mean(card_markups))"
   ]
  },
  {
   "cell_type": "markdown",
   "metadata": {},
   "source": [
    "That's pretty awful. Actually, it's the worst strategy I can think of. Here's the thing: I should never pick the first card, because every additional card gives me information. Quite a lot, in fact. There's $5! = 120$ total shuffles of the deck, and only $4! = 24$ ($\\frac{1}{5}$) of those shuffles start with the $N$. \n",
    "\n",
    "If the second card I pick is 400 lower than the first, then I know for sure that I'm holding the lowest card ($N$), and should take it. This is true more broadly: the moment I've seen the maximum gap, I can grab the best remaining card that I see.\n",
    "\n",
    "Let's work up from a reduced deck. If the deck contains only two cards ($N$ and $N+100$), then your chances of getting the best card are (obviously)"
   ]
  },
  {
   "cell_type": "code",
   "execution_count": 65,
   "metadata": {},
   "outputs": [
    {
     "ename": "SyntaxError",
     "evalue": "invalid syntax (<ipython-input-65-88e3f03b5c6f>, line 16)",
     "output_type": "error",
     "traceback": [
      "\u001b[0;36m  File \u001b[0;32m\"<ipython-input-65-88e3f03b5c6f>\"\u001b[0;36m, line \u001b[0;32m16\u001b[0m\n\u001b[0;31m    withwhile cards_seen[-1] != cards_seen[0]+100:\u001b[0m\n\u001b[0m                       ^\u001b[0m\n\u001b[0;31mSyntaxError\u001b[0m\u001b[0;31m:\u001b[0m invalid syntax\n"
     ]
    }
   ],
   "source": [
    "import random\n",
    "\n",
    "cards = [c for c in range(0,500,100)] # generate the unshuffled deck\n",
    "random.shuffle(cards)\n",
    "\n",
    "def get_best_price(shuffled_deck, cards_seen=[], maximum_extra=400):\n",
    "    \"\"\"Recursively follow the optimal strategy with a given (shuffled) deck of cards.\"\"\"\n",
    "    if len(cards_seen) < 2: # never take the first card\n",
    "        cards_seen.append(shuffled_deck.pop(0))\n",
    "        return get_best_price(shuffled_deck, cards_seen, maximum_extra)\n",
    "    elif cards_seen[0] - cards_seen[1] == -maximum_extra:\n",
    "        # now we know that [0] was the highest, and [1] is the lowest, so we take [1]\n",
    "        return cards_seen[1]\n",
    "    elif (max(cards_seen) - min(cards_seen)) == maximum_extra:\n",
    "        # now we know that we've seen the full range, so we take the best available:\n",
    "        if cards_seen[-1] == \n",
    "        withwhile cards_seen[-1] != cards_seen[0]+100:\n",
    "                    cards_seen.append(shuffled_deck.pop(0))\n",
    "                    \n",
    "get_best_price(cards)"
   ]
  }
 ],
 "metadata": {
  "kernelspec": {
   "display_name": "Python 3",
   "language": "python",
   "name": "python3"
  },
  "language_info": {
   "codemirror_mode": {
    "name": "ipython",
    "version": 3
   },
   "file_extension": ".py",
   "mimetype": "text/x-python",
   "name": "python",
   "nbconvert_exporter": "python",
   "pygments_lexer": "ipython3",
   "version": "3.6.9"
  }
 },
 "nbformat": 4,
 "nbformat_minor": 2
}
