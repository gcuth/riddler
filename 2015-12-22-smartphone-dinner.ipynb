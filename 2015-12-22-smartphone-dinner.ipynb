{
 "cells": [
  {
   "cell_type": "markdown",
   "metadata": {},
   "source": [
    "# Smartphone Dinner\n",
    "\n",
    "> You’ve just finished unwrapping your holiday presents. You and your sister got brand-new smartphones, opening them at the same moment. You immediately both start doing important tasks on the Internet, and each task you do takes one to five minutes. (All tasks take exactly one, two, three, four or five minutes, with an equal probability of each). After each task, you have a brief moment of clarity. During these, you remember that you and your sister are supposed to join the rest of the family for dinner and that you promised each other you’d arrive together. You ask if your sister is ready to eat, but if she is still in the middle of a task, she asks for time to finish it. In that case, you now have time to kill, so you start a new task (again, it will take one, two, three, four or five minutes, exactly, with an equal probability of each). If she asks you if it’s time for dinner while you’re still busy, you ask for time to finish up and she starts a new task and so on. From the moment you first open your gifts, *how long on average does it take for both of you to be between tasks at the same time so you can finally eat?* (You can assume the “moments of clarity” are so brief as to take no measurable time at all.) ([via](https://fivethirtyeight.com/features/how-long-will-your-smartphone-distract-you-from-family-dinner/))"
   ]
  },
  {
   "cell_type": "markdown",
   "metadata": {},
   "source": [
    "Let's start by simulating general case, where we take tasks can take between 1 and $n$ minutes with an equal probability of each. Because 'moments of clarity' are instantaneous, we can do this by simulating a series of tasks, taking the cumulative sum for each sister and then finding the minimum value of the intersection of the two sisters' task completion times."
   ]
  },
  {
   "cell_type": "code",
   "execution_count": 12,
   "metadata": {},
   "outputs": [
    {
     "data": {
      "text/plain": [
       "8.847"
      ]
     },
     "execution_count": 12,
     "metadata": {},
     "output_type": "execute_result"
    }
   ],
   "source": [
    "function simulate(n::Int64, tasks::Int64)::Int64\n",
    "    you = []\n",
    "    your_sister = []\n",
    "    for i in 1:tasks\n",
    "        push!(you, rand(1:n))\n",
    "        push!(your_sister, rand(1:n))\n",
    "    end\n",
    "    return(minimum(intersect(cumsum(you), cumsum(your_sister))))\n",
    "end\n",
    "\n",
    "function run_simulations(n::Int64, tasks::Int64, n_sims::Int64)\n",
    "    some_sims = [simulate(n, tasks) for x in 1:n_sims]\n",
    "    return(sum(some_sims)/n_sims)\n",
    "end\n",
    "\n",
    "run_simulations(5, 100, 100000)"
   ]
  },
  {
   "cell_type": "markdown",
   "metadata": {},
   "source": [
    "The average time between your 'moments of clarity' is given by $\\frac{n+1}{2}$, and the probability of a given minute being one of those 'moments of clarity' is $\\frac{2}{n+1}$. This makes intuitive sense. You and your sister are totally independent, so the average time you have to wait for a simultaneous moment of clarity is:\n",
    "\n",
    "$$\\big({\\frac{n+1}{2}\\big)}^2$$\n",
    "\n",
    "For $n = 5$, this means the average time you'll be waiting before dinner is 9 minutes."
   ]
  }
 ],
 "metadata": {
  "kernelspec": {
   "display_name": "Julia 0.6.2",
   "language": "julia",
   "name": "julia-0.6"
  },
  "language_info": {
   "file_extension": ".jl",
   "mimetype": "application/julia",
   "name": "julia",
   "version": "0.6.2"
  }
 },
 "nbformat": 4,
 "nbformat_minor": 2
}
