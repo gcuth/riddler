{
 "cells": [
  {
   "cell_type": "markdown",
   "metadata": {},
   "source": [
    "# Reusable Calendar\n",
    "\n",
    "> Calendars are as predictable as the march of time itself — the major thing that changes is the day of the week a date is on. Jan. 1 was a Thursday in 2015, for example, but in 2016 it will be a Friday, requiring a one-day shift and making 2015’s calendar pretty useless.\n",
    "> \n",
    "> Calendars’ predictability makes them ripe for mathy questions. Here are six to chew on:\n",
    "> 1. How many different calendars would you need to represent all possible years — accounting for all day and date combinations? (Don’t forget about leap years!)\n",
    "> 2. Now that we have all the calendars we could possibly need, it’d be nice to know how often we’re using them. When is the next time we’ll use the 2015 calendar?\n",
    "> 3. What is the smallest total number of years that will pass between using the same non-leap-year calendar twice?\n",
    "> 4. What is the largest?\n",
    "> 5. What is the smallest total number of years that will pass between using a leap year calendar twice?\n",
    "> 6. What is the largest? ([via](https://fivethirtyeight.com/features/riddler-how-long-before-you-can-use-your-2015-calendar-again-riddler/))"
   ]
  },
  {
   "cell_type": "markdown",
   "metadata": {},
   "source": [
    "I'm gonna take this question by question:"
   ]
  },
  {
   "cell_type": "markdown",
   "metadata": {},
   "source": [
    "### How Many Calendars?\n",
    "\n",
    "There are $14$ unique calendars. Two things change about a calendar year-to-year: the day the year starts on ($7$ options) and whether or not there's a leap year ($2$ options). $7\\times2 = 14$. "
   ]
  },
  {
   "cell_type": "markdown",
   "metadata": {},
   "source": [
    "### When Will We Reuse 2015?\n",
    "\n",
    "This is a little harder. 2015 started on a Thursday, and the progression from there on looks like:\n",
    "\n",
    "| Year | Starting Day | Leap? |\n",
    "|------|:------------:|:-----:|\n",
    "| 2015 |   Thursday   |   N   |\n",
    "| 2016 |    Friday    |   Y   |\n",
    "| 2017 |    Sunday    |   N   |\n",
    "| 2018 |    Monday    |   N   |\n",
    "| 2019 |    Tuesday   |   N   |\n",
    "| 2020 |   Wednesday  |   Y   |\n",
    "| 2021 |    Friday    |   N   |\n",
    "| 2022 |   Saturday   |   N   |\n",
    "| 2023 |    Sunday    |   N   |\n",
    "| 2024 |    Monday    |   Y   |\n",
    "| 2025 |   Wednesday  |   N   |\n",
    "| 2026 |   Thursday   |   N   |\n",
    "\n",
    "So 2026."
   ]
  },
  {
   "cell_type": "markdown",
   "metadata": {},
   "source": [
    "### The Smallest Gap Between Non-Leap Years\n",
    "\n",
    "This is fun. The best case gap is always one where there's only one leap year calendar between the two (non-leap-year) calendars because, rather than taking 7 years to recycle, the leap year let's you 'skip ahead' by one year. So, $6$. A good example of this is in the above table, where the 2017 calendar recycles in 2023."
   ]
  },
  {
   "cell_type": "markdown",
   "metadata": {},
   "source": [
    "### The Largest Gap Between Non-Leap Years\n",
    "\n",
    "$12$. Again, taking advantage of the leap year mechanic in the 'worst' way leads to a lot of near misses. This is made more complicated because the rules of leap year scheduling in the Gregorian system are [kinda weird](http://aa.usno.navy.mil/faq/docs/calendars.php):\n",
    "\n",
    "> Every year that is exactly divisible by four is a leap year, except for years that are exactly divisible by 100, but these centurial years are leap years if they are exactly divisible by 400. For example, the years 1700, 1800, and 1900 are not leap years, but the year 2000 is. ([via](http://aa.usno.navy.mil/faq/docs/calendars.php))\n",
    "\n",
    "An example of a twelve-gap: because 2100 is not a leap year, 2097 doesn't repeat until 2109."
   ]
  },
  {
   "cell_type": "markdown",
   "metadata": {},
   "source": [
    "### The Smallest Gap Between Leap Years\n",
    "\n",
    "$12$. 2100 is helping us out in just the right way, here, now that we're talking about leap years: 2096 is a leap year, but 2100 isn't, so we'll recycle on 2108."
   ]
  },
  {
   "cell_type": "markdown",
   "metadata": {},
   "source": [
    "### The Largest Gap Between Leap Years\n",
    "\n",
    "$40$. A good example of this: 2072 doesn't get recycled until 2112, thanks again to our good friend 2100."
   ]
  },
  {
   "cell_type": "code",
   "execution_count": null,
   "metadata": {},
   "outputs": [],
   "source": []
  }
 ],
 "metadata": {
  "kernelspec": {
   "display_name": "Julia 0.6.2",
   "language": "julia",
   "name": "julia-0.6"
  },
  "language_info": {
   "file_extension": ".jl",
   "mimetype": "application/julia",
   "name": "julia",
   "version": "0.6.2"
  }
 },
 "nbformat": 4,
 "nbformat_minor": 2
}
