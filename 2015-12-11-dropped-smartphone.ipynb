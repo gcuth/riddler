{
 "cells": [
  {
   "cell_type": "markdown",
   "metadata": {},
   "source": [
    "# Dropped Smartphone\n",
    "\n",
    "> You work for a tech firm developing the newest smartphone that supposedly can survive falls from great heights. Your firm wants to advertise the maximum height from which the phone can be dropped without breaking.\n",
    "> \n",
    "> You are given two of the smartphones and access to a 100-story tower from which you can drop either phone from whatever story you want. If it doesn’t break when it falls, you can retrieve it and use it for future drops. But if it breaks, you don’t get a replacement phone.\n",
    "> \n",
    "> Using the two phones, what is the minimum number of drops you need to ensure that you can determine exactly the highest story from which a dropped phone does not break? (Assume you know that it breaks when dropped from the very top.) What if, instead, the tower were 1,000 stories high? ([via](https://fivethirtyeight.com/features/whats-the-best-way-to-drop-a-smartphone/))\n",
    "\n",
    "Smartphones are expensive, so this one feels pretty high risk. Let's give it a go."
   ]
  },
  {
   "cell_type": "markdown",
   "metadata": {},
   "source": [
    "### The Basic Strategy\n",
    "Let's say I start on Floor 10, drop Phone A, and it breaks. Now I know that the 'highest non-breaking floor' has to be somewhere between floor 1 and 9 (inclusive). I can start at 1, and then drop at each floor until I reach the floor that breaks the phone. (Note: if 9 doesn't break the phone, we know that's the highest safe floor and Phone B still works fine; in any other case, I'm going to break both phones in order to discover the highest safe floor.)\n",
    "\n",
    "Imagine, though, that I start on Floor 10, drop Phone A, and it *doesn't* break. Now I run up from there to, say, Floor 20. If Phone A breaks when dropped from Floor 20, I can do the same thing I did before, but starting at Floor 11. Thanks to the first drop, I know that Floors 1 through 11 are safe.\n",
    "\n",
    "This strategy works for arbitrarily many floors, but it doesn't guarantee a minimum number of drops. Let's say my naïve strategy looks something like this:"
   ]
  },
  {
   "cell_type": "code",
   "execution_count": 1,
   "metadata": {},
   "outputs": [],
   "source": [
    "naive_floors = [10,20,30,40,50,60,70,80,90,99]"
   ]
  },
  {
   "cell_type": "markdown",
   "metadata": {},
   "source": [
    "In the best case, `naive_floors` results in only three drops:\n",
    "\n",
    "| Floor | Phone Used |  Result  |\n",
    "|:-----:|:----------:|:--------:|\n",
    "|   10  |      A     |   Break  |\n",
    "|   1   |      B     | No Break |\n",
    "|   2   |      B     |   Break  |\n",
    "\n",
    "However, I could be dropping phones as many as 18 times. The real question, then, is this: how do we optimise the *gaps between floors* when testing with a given tower height such that the worst case is fewer than 19?"
   ]
  },
  {
   "cell_type": "markdown",
   "metadata": {},
   "source": [
    "### Solving One Hundred\n",
    "\n",
    "For a 100 story tower, an intuitively option is:"
   ]
  },
  {
   "cell_type": "code",
   "execution_count": 2,
   "metadata": {},
   "outputs": [],
   "source": [
    "best_floors = [14, 27, 39, 50, 60, 69, 77, 84, 90, 95, 99]"
   ]
  },
  {
   "cell_type": "markdown",
   "metadata": {},
   "source": [
    "In this case, the best option is also the worst option: in all situations, a total of 14 drops occur."
   ]
  },
  {
   "cell_type": "markdown",
   "metadata": {},
   "source": [
    "### Generalising to One Thousand\n",
    "\n",
    "What makes this the best solution in the 100 floor case? 14 is the smallest number such that:\n",
    "\n",
    "$$1 + 2 + 3 + 4 + 5 + ... + n \\geq 100$$\n",
    "\n",
    "Given that \n",
    "\n",
    "$$1 + 2 + 3 + 4 + 5 + ... + n = \\frac{n(n + 1)}{2}$$\n",
    "\n",
    "We can generalise to the 1000 floor case by finding the smallest $n$ such that:\n",
    "\n",
    "$$\\frac{n(n + 1)}{2} \\geq 1000$$\n",
    "\n",
    "In this case, $n = 45$."
   ]
  },
  {
   "cell_type": "markdown",
   "metadata": {},
   "source": [
    "### This Is Pretty Cool Though, Right?\n",
    "The number of drops needed for any given number of floors has a pretty great (exponential) shape, if you think about it:"
   ]
  },
  {
   "cell_type": "code",
   "execution_count": 27,
   "metadata": {},
   "outputs": [
    {
     "data": {
      "image/png": "[encoded data removed]",
      "text/plain": [
       "<Figure size 432x288 with 1 Axes>"
      ]
     },
     "metadata": {},
     "output_type": "display_data"
    }
   ],
   "source": [
    "import numpy as np\n",
    "import matplotlib.pyplot as plt\n",
    "\n",
    "floors = np.vectorize(lambda n: ((n * (n + 1))/2))\n",
    "\n",
    "plt.plot(range(100000), floors(range(100000)))\n",
    "plt.show()"
   ]
  },
  {
   "cell_type": "markdown",
   "metadata": {},
   "source": [
    "In other words, a tower of 100000 floors requires only 447 drops with two phones."
   ]
  }
 ],
 "metadata": {
  "kernelspec": {
   "display_name": "Python 3",
   "language": "python",
   "name": "python3"
  },
  "language_info": {
   "codemirror_mode": {
    "name": "ipython",
    "version": 3
   },
   "file_extension": ".py",
   "mimetype": "text/x-python",
   "name": "python",
   "nbconvert_exporter": "python",
   "pygments_lexer": "ipython3",
   "version": "3.6.9"
  }
 },
 "nbformat": 4,
 "nbformat_minor": 2
}
