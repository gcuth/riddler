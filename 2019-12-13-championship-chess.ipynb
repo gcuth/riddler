{
 "cells": [
  {
   "cell_type": "markdown",
   "metadata": {},
   "source": [
    "# Championship Chess"
   ]
  },
  {
   "cell_type": "markdown",
   "metadata": {},
   "source": [
    "> The infamous 1984 World Chess Championship match between the reigning world champion Anatoly Karpov and 21-year-old Garry Kasparov was supposed to have been played until either player had won six games. Instead, it went on for 48 games: Karpov won five, Kasparov won 3, and the other 40 games each ended in a draw. Alas, the match was controversially terminated without a winner.\n",
    ">\n",
    "> We can deduce from the games Karpov and Kasparov played that, independently of other games, Karpov’s chances of winning each game were 5/48, Kasparov’s chances were 3/48, and the chances of a draw were 40/48. Had the match been allowed to continue indefinitely, what would have been Kasparov’s chances of eventually winning the match? ([via](https://fivethirtyeight.com/features/can-you-solve-a-particularly-prismatic-puzzle/))"
   ]
  },
  {
   "cell_type": "markdown",
   "metadata": {},
   "source": [
    "Let me start with a dirty computational approximation:"
   ]
  },
  {
   "cell_type": "code",
   "execution_count": 79,
   "metadata": {},
   "outputs": [
    {
     "name": "stdout",
     "output_type": "stream",
     "text": [
      "Total Karpov Win %: 0.94753\n",
      "Total Kasparov Win %: 0.05247\n"
     ]
    }
   ],
   "source": [
    "import random\n",
    "\n",
    "def simulate_game(karpov_wins = 5, kasparov_wins = 3, draws = 40):\n",
    "    \"\"\"Simulate an individual game with fixed chances.\"\"\"\n",
    "    results = {'karpov':0, 'kasparov': 0, 'draw':0}\n",
    "    games = [\"karpov\"]*karpov_wins + [\"kasparov\"]*kasparov_wins + [\"draw\"]*draws\n",
    "    winner = random.choice(games)\n",
    "    results[winner] += 1\n",
    "    return results\n",
    "\n",
    "def simulate_match(karpov_total_wins, kasparov_total_wins, total_draws):\n",
    "    \"\"\"Recursively simulate a match until a winner appears, yielding the winner's name.\"\"\"\n",
    "    if karpov_total_wins < 6 and kasparov_total_wins < 6:\n",
    "        new_game_result = simulate_game()\n",
    "        new_karpov_total_wins = karpov_total_wins + new_game_result['karpov']\n",
    "        new_kasparov_total_wins = kasparov_total_wins + new_game_result['kasparov']\n",
    "        new_total_draws = total_draws + new_game_result['draw']\n",
    "        return simulate_match(new_karpov_total_wins, new_kasparov_total_wins, new_total_draws)\n",
    "    else:\n",
    "        if karpov_total_wins == 6:\n",
    "            return \"karpov\"\n",
    "        else:\n",
    "            return \"kasparov\"\n",
    "    \n",
    "simulated_match_winners = []\n",
    "running_karpov_win_percentage = []\n",
    "\n",
    "for i in range(100000):\n",
    "    simulated_match_winners.append(simulate_match(5, 3, 40))\n",
    "    running_karpov_win_percentage.append(simulated_match_winners.count('karpov')/len(simulated_match_winners))\n",
    "    \n",
    "print(\"Total Karpov Win %: {}\".format(str(simulated_match_winners.count('karpov')/len(simulated_match_winners))))\n",
    "print(\"Total Kasparov Win %: {}\".format(str(simulated_match_winners.count('kasparov')/len(simulated_match_winners))))"
   ]
  },
  {
   "cell_type": "code",
   "execution_count": 80,
   "metadata": {},
   "outputs": [
    {
     "data": {
      "image/png": "[encoded data removed]",
      "text/plain": [
       "<matplotlib.figure.Figure at 0x7fd93c413e10>"
      ]
     },
     "metadata": {
      "needs_background": "light"
     },
     "output_type": "display_data"
    }
   ],
   "source": [
    "import numpy as np\n",
    "import matplotlib.pyplot as plt\n",
    "\n",
    "plt.plot(range(len(simulated_match_winners)), running_karpov_win_percentage)\n",
    "plt.show()"
   ]
  }
 ],
 "metadata": {
  "kernelspec": {
   "display_name": "Python 3",
   "language": "python",
   "name": "python3"
  },
  "language_info": {
   "codemirror_mode": {
    "name": "ipython",
    "version": 3
   },
   "file_extension": ".py",
   "mimetype": "text/x-python",
   "name": "python",
   "nbconvert_exporter": "python",
   "pygments_lexer": "ipython3",
   "version": "3.6.9"
  }
 },
 "nbformat": 4,
 "nbformat_minor": 2
}
