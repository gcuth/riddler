{
 "cells": [
  {
   "cell_type": "markdown",
   "metadata": {},
   "source": [
    "# Three Geysers\n",
    "\n",
    "> You arrive at the beautiful Three Geysers National Park. You read a placard explaining that the three eponymous geysers — creatively named A, B and C — erupt at intervals of precisely two hours, four hours and six hours, respectively. However, you just got there, so you have no idea how the three eruptions are staggered. Assuming they each started erupting at some independently random point in history, what are the probabilities that A, B and C, respectively, will be the first to erupt after your arrival? ([via](https://fivethirtyeight.com/features/which-geyser-gushes-first/))\n",
    "\n",
    "This is elegant af.\n",
    "\n",
    "As far as we're concerned, the eruption times of $A$, $B$, and $C$ are continuously uniformly distributed between the time we arrive ($t$) and $t+2$, $t+4$, and $t+6$ hours respectively.\n",
    "\n",
    "Let's think about this in terms of what might happen in first two hours that you're standing in front of the Geysers.\n",
    "\n",
    "- Geyser $A$ is guaranteed to erupt;\n",
    "\n",
    "- Geyser $B$ has a $\\frac{1}{2}$ chance of erupting; and,\n",
    "\n",
    "- Geyser $C$ has a $\\frac{1}{3}$ chance of erupting.\n",
    "\n",
    "Now, we can also think about four discrete possible scenarios for the number of geysers of that erupt in those first two hours:\n",
    "\n",
    "1. Only $A$ erupts,\n",
    "2. $A$ and $B$ erupt,\n",
    "3. $A$ and $C$ erupt,\n",
    "4. All three geysers erupt ($A$,$B$, and $C$).\n",
    "\n",
    "In each of the four scenarios, the geysers that *can* erupt have an equal probability of erupting first. To get the total probability of a given geyser erupting first - say $p(A)$ - we take the probabilities of each scenario occurring multiplied by the probability of $A$ erupting first in each scenario and then sum them. For example:\n",
    "\n",
    "$$p(A) = \\left( \\frac{1}{2} \\cdot \\frac{2}{3} \\cdot 1 \\right) +\n",
    "         \\left( \\frac{1}{2} \\cdot \\frac{2}{3} \\cdot \\frac{1}{2} \\right) +\n",
    "         \\left( \\frac{1}{2} \\cdot \\frac{1}{3} \\cdot \\frac{1}{2} \\right) +\n",
    "         \\left( \\frac{1}{2} \\cdot \\frac{1}{3} \\cdot \\frac{1}{3} \\right)\n",
    "       = \\frac{23}{36}$$\n",
    "         \n",
    "Finding $p(B)$ and $p(C)$ just involves fewer scenarios (scenarios 2 and 4 and scenarios 3 and 4 respectively):\n",
    "\n",
    "$$p(B) = \\left( \\frac{1}{2} \\cdot \\frac{2}{3} \\cdot \\frac{1}{2} \\right) +\n",
    "         \\left( \\frac{1}{2} \\cdot \\frac{1}{3} \\cdot \\frac{1}{3}  \\right)\n",
    "       = \\frac{8}{36}$$\n",
    "\n",
    "$$p(C) = \\left( \\frac{1}{2} \\cdot \\frac{1}{3} \\cdot \\frac{1}{2} \\right) +\n",
    "         \\left( \\frac{1}{2} \\cdot \\frac{1}{3} \\cdot \\frac{1}{3}  \\right)\n",
    "       = \\frac{5}{36}$$"
   ]
  }
 ],
 "metadata": {
  "kernelspec": {
   "display_name": "Python 3",
   "language": "python",
   "name": "python3"
  },
  "language_info": {
   "codemirror_mode": {
    "name": "ipython",
    "version": 3
   },
   "file_extension": ".py",
   "mimetype": "text/x-python",
   "name": "python",
   "nbconvert_exporter": "python",
   "pygments_lexer": "ipython3",
   "version": "3.6.5"
  }
 },
 "nbformat": 4,
 "nbformat_minor": 2
}
