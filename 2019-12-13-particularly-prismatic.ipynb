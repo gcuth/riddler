{
 "cells": [
  {
   "cell_type": "markdown",
   "metadata": {},
   "source": [
    "# Particularly Prismatic"
   ]
  },
  {
   "cell_type": "markdown",
   "metadata": {},
   "source": [
    "> Suppose I have a rectangle whose side lengths are each a whole number, and whose area (in square units) is the same as its perimeter (in units of length). What are the possible dimensions for this rectangle?\n",
    "> \n",
    "> Alas, that’s not the riddle — that’s just the appetizer. The rectangle could be 4 by 4 or 3 by 6. You can check both of these: 4 · 4 = 16 and 4 + 4 + 4 + 4 = 16, while 3 · 6 = 18 and 3 + 6 + 3 + 6 = 18. These are the only two whole number dimensions the rectangle could have. (One way to see this is to call the rectangle’s length a and its width b. You’re looking for whole number solutions to the equation ab = 2a + 2b.)\n",
    "> \n",
    "> On to the main course! Instead of rectangles, let’s give rectangular prisms a try. What whole number dimensions can rectangular prisms have so that their volume (in cubic units) is the same as their surface area (in square units)?\n",
    ">\n",
    "> To get you started, Steve notes that 6 by 6 by 6 is one such solution. How many others can you find? ([via](https://fivethirtyeight.com/features/can-you-solve-a-particularly-prismatic-puzzle/))"
   ]
  },
  {
   "cell_type": "markdown",
   "metadata": {},
   "source": [
    "## A Computational Swing at Things"
   ]
  },
  {
   "cell_type": "code",
   "execution_count": 4,
   "metadata": {},
   "outputs": [
    {
     "name": "stdout",
     "output_type": "stream",
     "text": [
      "Total solutions: 10\n",
      "Solutions: [[3, 7, 42], [3, 8, 24], [3, 9, 18], [3, 10, 15], [3, 12, 12], [4, 5, 20], [4, 6, 12], [4, 8, 8], [5, 5, 10], [6, 6, 6]]\n"
     ]
    }
   ],
   "source": [
    "def calc_surface_area(h, w, d):\n",
    "    return (2 * (d * (h + w) + h*w))\n",
    "\n",
    "def calc_volume(h, w, d):\n",
    "    return (h * w * d)\n",
    "\n",
    "solutions = []\n",
    "\n",
    "search_depth = 300\n",
    "\n",
    "# nested 'for' loops ahoy!\n",
    "for h in range(1,search_depth):\n",
    "    for w in range(1,search_depth):\n",
    "        for d in range(1,search_depth):\n",
    "            if calc_volume(h,w,d) == calc_surface_area(h,w,d):\n",
    "                solution = [h,w,d]\n",
    "                solution.sort()\n",
    "                if solution not in solutions:\n",
    "                    solutions.append(solution)\n",
    "\n",
    "print(\"Total solutions: {}\".format(str(len(solutions))))\n",
    "print(\"Solutions: {}\".format(str(solutions)))"
   ]
  }
 ],
 "metadata": {
  "kernelspec": {
   "display_name": "Python 3",
   "language": "python",
   "name": "python3"
  },
  "language_info": {
   "codemirror_mode": {
    "name": "ipython",
    "version": 3
   },
   "file_extension": ".py",
   "mimetype": "text/x-python",
   "name": "python",
   "nbconvert_exporter": "python",
   "pygments_lexer": "ipython3",
   "version": "3.6.9"
  }
 },
 "nbformat": 4,
 "nbformat_minor": 2
}
