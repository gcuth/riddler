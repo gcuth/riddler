{
 "cells": [
  {
   "cell_type": "markdown",
   "metadata": {},
   "source": [
    "# Guessing Game\n",
    "\n",
    "> Take a standard deck of cards, and pull out the numbered cards from one suit (the cards 2 through 10). Shuffle them, and then lay them face down in a row. Flip over the first card. Now guess whether the next card in the row is bigger or smaller. If you’re right, keep going.\n",
    "> \n",
    "> If you play this game optimally, what’s the probability that you can get to the end without making any mistakes?\n",
    "> \n",
    "> *Extra credit*: What if there were more cards — 2 through 20, or 2 through 100? How do your chances of getting to the end change? ([via](https://fivethirtyeight.com/features/step-1-game-theory-step-2-step-3-profit/))"
   ]
  },
  {
   "cell_type": "markdown",
   "metadata": {},
   "source": [
    "### Simulating the Game\n",
    "\n",
    "Let's start with a few functions for a basic simulation of the game:"
   ]
  },
  {
   "cell_type": "code",
   "execution_count": 24,
   "metadata": {},
   "outputs": [],
   "source": [
    "import random\n",
    "\n",
    "def shuffle_deck(deck):\n",
    "    \"\"\"Take a deck (a list of ints); return a shuffled version of that deck.\"\"\"\n",
    "    random.shuffle(deck)\n",
    "    return deck\n",
    "\n",
    "def probability_higher(latest_card, possible_cards=[]):\n",
    "    \"\"\"Take a card n and list of possible remaining; return probability next n will be higher as float.\"\"\"\n",
    "    n_higher = sum(i > latest_card for i in possible_cards)\n",
    "    n_remaining = len(possible_cards)\n",
    "    return n_higher/n_remaining\n",
    "\n",
    "def predict_as_bool(p_higher):\n",
    "    \"\"\"Take a float probability that next card will be higher; return bool that it will be 'higher'.\"\"\"\n",
    "    if p_higher > 0.5:\n",
    "        prediction = True\n",
    "    elif p_higher < 0.5:\n",
    "        prediction = False\n",
    "    else:\n",
    "        prediction = bool(random.getrandbits(1))\n",
    "    return prediction\n",
    "\n",
    "def next_card_is_higher(latest_card, remaining_cards):\n",
    "    \"\"\"Return true if next card in deck of remaining cards is higher than latest; false otherwise.\"\"\"\n",
    "    return latest_card < remaining_cards[0]\n",
    "\n",
    "def simulate_game(max_card_num=10):\n",
    "    \"\"\"Take a maximum card number (default 10) and simulate the game; return bool win/loss.\"\"\"\n",
    "    card_list = [x for x in range(2,max_card_num+1)] # raw deck of card numbers\n",
    "    cards = shuffle_deck(card_list) # the shuffled deck\n",
    "    while True:\n",
    "        if len(cards) == 1: # if there's only one card remaining, the game is over.\n",
    "            break\n",
    "        latest = cards.pop(0) # 'flip' the next card and remove it from the shuffled deck.\n",
    "        prediction = predict_as_bool(probability_higher(latest, cards)) # get boolean prediction\n",
    "        if prediction != next_card_is_higher(latest, cards): # check prediction and break if wrong\n",
    "            break\n",
    "    return len(cards) == 1 # if you finished the game successfully, return true; false otherwise"
   ]
  },
  {
   "cell_type": "markdown",
   "metadata": {},
   "source": [
    "This is all pretty simple. We've now got a function `simulate_game()` that returns `True` if the game ends without a wrong prediction and `False` otherwise. This works for any arbitrary maximum card number (defaulting to `10`, as in the question).\n",
    "\n",
    "#### A Normal (2-10 Deck)\n",
    "So, let's run 1,000,000 simulations for the first version, a normal 2-10 deck:"
   ]
  },
  {
   "cell_type": "code",
   "execution_count": 32,
   "metadata": {},
   "outputs": [
    {
     "name": "stdout",
     "output_type": "stream",
     "text": [
      "Percentage Won: 17.0761\n"
     ]
    }
   ],
   "source": [
    "normal_deck_simulations = [simulate_game() for i in range(1000000)]\n",
    "normal_deck_win_rate = sum(normal_deck_simulations)/len(normal_deck_simulations)\n",
    "print(\"Percentage Won: %s\" %(normal_deck_win_rate*100))"
   ]
  },
  {
   "cell_type": "markdown",
   "metadata": {},
   "source": [
    "Unfortunately, our chances fall pretty rapidly as the maximum card number increases.\n",
    "\n",
    "#### A Double Decker (2-20 Deck)"
   ]
  },
  {
   "cell_type": "code",
   "execution_count": 33,
   "metadata": {},
   "outputs": [
    {
     "name": "stdout",
     "output_type": "stream",
     "text": [
      "Percentage Won: 0.8519000000000001\n"
     ]
    }
   ],
   "source": [
    "double_deck_simulations = [simulate_game(20) for i in range(1000000)]\n",
    "double_deck_win_rate = sum(double_deck_simulations)/len(double_deck_simulations)\n",
    "print(\"Percentage Won: %s\" %(double_deck_win_rate*100))"
   ]
  },
  {
   "cell_type": "markdown",
   "metadata": {},
   "source": [
    "#### A Century Deck (2-100 Deck)"
   ]
  },
  {
   "cell_type": "code",
   "execution_count": 34,
   "metadata": {},
   "outputs": [
    {
     "name": "stdout",
     "output_type": "stream",
     "text": [
      "Percentage Won: 0.0\n"
     ]
    }
   ],
   "source": [
    "century_deck_simulations = [simulate_game(100) for i in range(1000000)]\n",
    "century_deck_win_rate = sum(century_deck_simulations)/len(century_deck_simulations)\n",
    "print(\"Percentage Won: %s\" %(century_deck_win_rate*100))"
   ]
  },
  {
   "cell_type": "markdown",
   "metadata": {},
   "source": [
    "Not great, [Bob](https://www.youtube.com/watch?v=MpUWrl3-mc8)."
   ]
  },
  {
   "cell_type": "markdown",
   "metadata": {},
   "source": [
    "### The Shape of Things\n",
    "\n",
    "With simulations in hand, let's think about the rate at which winning gets harder as the deck gets bigger.\n",
    "\n",
    "We start by simulating a 10,000 games for all deck sizes from 2-3 (where you're winning every game) to 2-100:"
   ]
  },
  {
   "cell_type": "code",
   "execution_count": 41,
   "metadata": {},
   "outputs": [
    {
     "data": {
      "image/png": "[encoded data removed]",
      "text/plain": [
       "<Figure size 432x288 with 1 Axes>"
      ]
     },
     "metadata": {},
     "output_type": "display_data"
    }
   ],
   "source": [
    "win_rates = []\n",
    "\n",
    "for n in range(3,100):\n",
    "    simulation = [simulate_game(n) for i in range(10000)]\n",
    "    win_rates.append(sum(simulation)/len(simulation))\n",
    "    \n",
    "import numpy as np\n",
    "import matplotlib.pyplot as plt\n",
    "\n",
    "plt.plot(range(3,100),win_rates)\n",
    "plt.show()"
   ]
  },
  {
   "cell_type": "markdown",
   "metadata": {},
   "source": [
    "Like I said: not great."
   ]
  }
 ],
 "metadata": {
  "kernelspec": {
   "display_name": "Python 3",
   "language": "python",
   "name": "python3"
  },
  "language_info": {
   "codemirror_mode": {
    "name": "ipython",
    "version": 3
   },
   "file_extension": ".py",
   "mimetype": "text/x-python",
   "name": "python",
   "nbconvert_exporter": "python",
   "pygments_lexer": "ipython3",
   "version": "3.6.5"
  }
 },
 "nbformat": 4,
 "nbformat_minor": 2
}
